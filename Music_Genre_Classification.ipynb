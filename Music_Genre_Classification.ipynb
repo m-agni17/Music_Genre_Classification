{
 "cells": [
  {
   "cell_type": "code",
   "execution_count": 2,
   "metadata": {
    "_cell_guid": "b1076dfc-b9ad-4769-8c92-a6c4dae69d19",
    "_uuid": "8f2839f25d086af736a60e9eeb907d3b93b6e0e5",
    "execution": {
     "iopub.execute_input": "2022-11-26T18:40:46.553545Z",
     "iopub.status.busy": "2022-11-26T18:40:46.552848Z",
     "iopub.status.idle": "2022-11-26T18:40:54.924296Z",
     "shell.execute_reply": "2022-11-26T18:40:54.923222Z",
     "shell.execute_reply.started": "2022-11-26T18:40:46.55347Z"
    }
   },
   "outputs": [],
   "source": [
    "import matplotlib.pyplot as plt\n",
    "\n",
    "#for loading and visualizing audio files\n",
    "import librosa\n",
    "import librosa.display\n",
    "from tqdm import tqdm\n",
    "#to play audio\n",
    "import IPython.display as ipd\n",
    "import pandas as pd # data processing, CSV file I/O (e.g. pd.read_csv)\n",
    "import tensorflow as tf\n",
    "import cv2\n",
    "from keras.preprocessing.image import ImageDataGenerator\n",
    "from keras import backend as K\n",
    "import keras\n",
    "from keras.models import Sequential, Model,load_model\n",
    "from tensorflow.keras.optimizers import SGD, Adam\n",
    "from keras.callbacks import EarlyStopping,ModelCheckpoint\n",
    "from keras.layers import Input, Dense, Dropout, LSTM, Embedding, Flatten, Bidirectional\n",
    "from keras.preprocessing import image\n",
    "from keras.initializers import glorot_uniform\n",
    "from tensorflow.keras.applications import inception_v3\n",
    "from tensorflow.keras.models import Sequential\n",
    "from tensorflow.keras.preprocessing.image import ImageDataGenerator\n",
    "import numpy as np\n",
    "from sklearn.model_selection import train_test_split\n",
    "from keras.callbacks import ReduceLROnPlateau, EarlyStopping\n",
    "from tensorflow.keras.metrics import AUC\n",
    "import os\n",
    "import shutil\n",
    "label_csv = 'C:/Users/Admin/Downloads/Data/features_3_sec.csv'\n",
    "audio_fpath = \"C:/Users/Admin/Downloads/Data/genres_original/\""
   ]
  },
  {
   "cell_type": "code",
   "execution_count": 3,
   "metadata": {
    "execution": {
     "iopub.execute_input": "2022-11-26T18:40:54.927153Z",
     "iopub.status.busy": "2022-11-26T18:40:54.926498Z",
     "iopub.status.idle": "2022-11-26T18:40:54.937707Z",
     "shell.execute_reply": "2022-11-26T18:40:54.936361Z",
     "shell.execute_reply.started": "2022-11-26T18:40:54.927115Z"
    }
   },
   "outputs": [],
   "source": [
    "class AudioAugmentation:   \n",
    "    def add_noise(self, data):\n",
    "        noise = np.random.randn(len(data))\n",
    "        data_noise = data + 0.005 * noise\n",
    "        return data_noise\n",
    "    \n",
    "    def shift(self, data):\n",
    "        return np.roll(data, 6614)\n",
    "    \n",
    "    def stretch(self, data, rate=1):\n",
    "        input_length = 16000\n",
    "        data = librosa.effects.time_stretch(data, rate)\n",
    "        if len(data) > input_length:\n",
    "            data = data[:input_length]\n",
    "        else:\n",
    "            data = np.pad(data, (0, max(0, input_length - len(data))), \"constant\")\n",
    "        return data\n",
    "        "
   ]
  },
  {
   "cell_type": "code",
   "execution_count": 4,
   "metadata": {
    "execution": {
     "iopub.execute_input": "2022-11-26T18:40:54.940464Z",
     "iopub.status.busy": "2022-11-26T18:40:54.939732Z",
     "iopub.status.idle": "2022-11-26T18:40:55.26915Z",
     "shell.execute_reply": "2022-11-26T18:40:55.267902Z",
     "shell.execute_reply.started": "2022-11-26T18:40:54.940415Z"
    }
   },
   "outputs": [
    {
     "name": "stdout",
     "output_type": "stream",
     "text": [
      "No. of .wav files in audio folder =  10\n",
      "            filename  length  chroma_stft_mean  chroma_stft_var  rms_mean  \\\n",
      "0  blues.00000.0.wav   66149          0.335406         0.091048  0.130405   \n",
      "1  blues.00000.1.wav   66149          0.343065         0.086147  0.112699   \n",
      "2  blues.00000.2.wav   66149          0.346815         0.092243  0.132003   \n",
      "3  blues.00000.3.wav   66149          0.363639         0.086856  0.132565   \n",
      "4  blues.00000.4.wav   66149          0.335579         0.088129  0.143289   \n",
      "\n",
      "    rms_var  spectral_centroid_mean  spectral_centroid_var  \\\n",
      "0  0.003521             1773.065032          167541.630869   \n",
      "1  0.001450             1816.693777           90525.690866   \n",
      "2  0.004620             1788.539719          111407.437613   \n",
      "3  0.002448             1655.289045          111952.284517   \n",
      "4  0.001701             1630.656199           79667.267654   \n",
      "\n",
      "   spectral_bandwidth_mean  spectral_bandwidth_var  ...  mfcc16_var  \\\n",
      "0              1972.744388           117335.771563  ...   39.687145   \n",
      "1              2010.051501            65671.875673  ...   64.748276   \n",
      "2              2084.565132            75124.921716  ...   67.336563   \n",
      "3              1960.039988            82913.639269  ...   47.739452   \n",
      "4              1948.503884            60204.020268  ...   30.336359   \n",
      "\n",
      "   mfcc17_mean  mfcc17_var  mfcc18_mean  mfcc18_var  mfcc19_mean  mfcc19_var  \\\n",
      "0    -3.241280   36.488243     0.722209   38.099152    -5.050335   33.618073   \n",
      "1    -6.055294   40.677654     0.159015   51.264091    -2.837699   97.030830   \n",
      "2    -1.768610   28.348579     2.378768   45.717648    -1.938424   53.050835   \n",
      "3    -3.841155   28.337118     1.218588   34.770935    -3.580352   50.836224   \n",
      "4     0.664582   45.880913     1.689446   51.363583    -3.392489   26.738789   \n",
      "\n",
      "   mfcc20_mean  mfcc20_var  label  \n",
      "0    -0.243027   43.771767  blues  \n",
      "1     5.784063   59.943081  blues  \n",
      "2     2.517375   33.105122  blues  \n",
      "3     3.630866   32.023678  blues  \n",
      "4     0.536961   29.146694  blues  \n",
      "\n",
      "[5 rows x 60 columns]\n"
     ]
    },
    {
     "data": {
      "text/plain": [
       "(9990, 60)"
      ]
     },
     "execution_count": 4,
     "metadata": {},
     "output_type": "execute_result"
    }
   ],
   "source": [
    "\n",
    "audio_clips = os.listdir(audio_fpath)\n",
    "print(\"No. of .wav files in audio folder = \",len(audio_clips))\n",
    "df = pd.read_csv(label_csv)\n",
    "\n",
    "print(df.head())\n",
    "df.shape"
   ]
  },
  {
   "cell_type": "code",
   "execution_count": 5,
   "metadata": {
    "execution": {
     "iopub.execute_input": "2022-11-26T18:40:55.274009Z",
     "iopub.status.busy": "2022-11-26T18:40:55.273097Z",
     "iopub.status.idle": "2022-11-26T18:40:55.902335Z",
     "shell.execute_reply": "2022-11-26T18:40:55.900894Z",
     "shell.execute_reply.started": "2022-11-26T18:40:55.273968Z"
    }
   },
   "outputs": [
    {
     "name": "stdout",
     "output_type": "stream",
     "text": [
      "<class 'numpy.ndarray'> <class 'int'>\n",
      "(661794,) 22050\n"
     ]
    }
   ],
   "source": [
    "x, sr = librosa.load('C:/Users/Admin/Downloads/Data/genres_original/blues/blues.00000.wav')\n",
    "\n",
    "print(type(x), type(sr))\n",
    "print(x.shape, sr)"
   ]
  },
  {
   "cell_type": "code",
   "execution_count": 6,
   "metadata": {
    "execution": {
     "iopub.execute_input": "2022-11-26T18:40:55.905188Z",
     "iopub.status.busy": "2022-11-26T18:40:55.904495Z",
     "iopub.status.idle": "2022-11-26T18:40:55.911342Z",
     "shell.execute_reply": "2022-11-26T18:40:55.909736Z",
     "shell.execute_reply.started": "2022-11-26T18:40:55.905145Z"
    }
   },
   "outputs": [],
   "source": [
    "audio_duration = x.shape[0] / sr"
   ]
  },
  {
   "cell_type": "code",
   "execution_count": 7,
   "metadata": {
    "execution": {
     "iopub.execute_input": "2022-11-26T18:40:55.913779Z",
     "iopub.status.busy": "2022-11-26T18:40:55.913086Z",
     "iopub.status.idle": "2022-11-26T18:40:57.26049Z",
     "shell.execute_reply": "2022-11-26T18:40:57.259427Z",
     "shell.execute_reply.started": "2022-11-26T18:40:55.913742Z"
    }
   },
   "outputs": [
    {
     "name": "stderr",
     "output_type": "stream",
     "text": [
      "9990it [00:01, 9983.20it/s] "
     ]
    },
    {
     "name": "stdout",
     "output_type": "stream",
     "text": [
      "[-118.62791442871094, 125.08362579345705, -23.443723678588867, 41.32148361206055, -5.976108074188232, 20.115140914916992, -16.04541015625, 17.85519790649414, -14.633434295654297, 10.270526885986328, -9.70827865600586, 10.18387508392334, -4.681614398956299, 8.417439460754395, -7.233476638793945, -2.8536033630371094, -3.2412803173065186, 0.7222089767456055, -5.05033540725708, -0.2430267930030822]\n"
     ]
    },
    {
     "name": "stderr",
     "output_type": "stream",
     "text": [
      "\n"
     ]
    }
   ],
   "source": [
    "extracted_data = []\n",
    "for index, row in tqdm(df.iterrows()):\n",
    "    mfcc = []\n",
    "    class_labels = row['label']\n",
    "    for i in range(1,21):\n",
    "        mfcc.append(row['mfcc'+ str(i)+'_mean'])\n",
    "    extracted_data.append([mfcc, class_labels])\n",
    "print(extracted_data[0][0])"
   ]
  },
  {
   "cell_type": "code",
   "execution_count": 8,
   "metadata": {
    "execution": {
     "iopub.execute_input": "2022-11-26T18:40:57.26262Z",
     "iopub.status.busy": "2022-11-26T18:40:57.262188Z",
     "iopub.status.idle": "2022-11-26T18:40:57.281017Z",
     "shell.execute_reply": "2022-11-26T18:40:57.279881Z",
     "shell.execute_reply.started": "2022-11-26T18:40:57.26258Z"
    }
   },
   "outputs": [
    {
     "name": "stderr",
     "output_type": "stream",
     "text": [
      "C:\\Users\\Admin\\AppData\\Local\\Temp/ipykernel_168/3891064005.py:1: VisibleDeprecationWarning: Creating an ndarray from ragged nested sequences (which is a list-or-tuple of lists-or-tuples-or ndarrays with different lengths or shapes) is deprecated. If you meant to do this, you must specify 'dtype=object' when creating the ndarray.\n",
      "  np.array(extracted_data).shape\n"
     ]
    },
    {
     "data": {
      "text/plain": [
       "(9990, 2)"
      ]
     },
     "execution_count": 8,
     "metadata": {},
     "output_type": "execute_result"
    }
   ],
   "source": [
    "np.array(extracted_data).shape"
   ]
  },
  {
   "cell_type": "code",
   "execution_count": 9,
   "metadata": {
    "execution": {
     "iopub.execute_input": "2022-11-26T18:40:57.28363Z",
     "iopub.status.busy": "2022-11-26T18:40:57.282986Z",
     "iopub.status.idle": "2022-11-26T18:40:57.30201Z",
     "shell.execute_reply": "2022-11-26T18:40:57.300805Z",
     "shell.execute_reply.started": "2022-11-26T18:40:57.283595Z"
    }
   },
   "outputs": [
    {
     "data": {
      "text/html": [
       "<div>\n",
       "<style scoped>\n",
       "    .dataframe tbody tr th:only-of-type {\n",
       "        vertical-align: middle;\n",
       "    }\n",
       "\n",
       "    .dataframe tbody tr th {\n",
       "        vertical-align: top;\n",
       "    }\n",
       "\n",
       "    .dataframe thead th {\n",
       "        text-align: right;\n",
       "    }\n",
       "</style>\n",
       "<table border=\"1\" class=\"dataframe\">\n",
       "  <thead>\n",
       "    <tr style=\"text-align: right;\">\n",
       "      <th></th>\n",
       "      <th>feature</th>\n",
       "      <th>class</th>\n",
       "    </tr>\n",
       "  </thead>\n",
       "  <tbody>\n",
       "    <tr>\n",
       "      <th>0</th>\n",
       "      <td>[-118.62791442871094, 125.08362579345705, -23....</td>\n",
       "      <td>blues</td>\n",
       "    </tr>\n",
       "    <tr>\n",
       "      <th>1</th>\n",
       "      <td>[-125.59070587158205, 122.42122650146484, -20....</td>\n",
       "      <td>blues</td>\n",
       "    </tr>\n",
       "    <tr>\n",
       "      <th>2</th>\n",
       "      <td>[-132.4419403076172, 115.08517456054688, -14.8...</td>\n",
       "      <td>blues</td>\n",
       "    </tr>\n",
       "    <tr>\n",
       "      <th>3</th>\n",
       "      <td>[-118.23108673095705, 132.1165008544922, -18.7...</td>\n",
       "      <td>blues</td>\n",
       "    </tr>\n",
       "    <tr>\n",
       "      <th>4</th>\n",
       "      <td>[-105.96837615966795, 134.64364624023438, -19....</td>\n",
       "      <td>blues</td>\n",
       "    </tr>\n",
       "  </tbody>\n",
       "</table>\n",
       "</div>"
      ],
      "text/plain": [
       "                                             feature  class\n",
       "0  [-118.62791442871094, 125.08362579345705, -23....  blues\n",
       "1  [-125.59070587158205, 122.42122650146484, -20....  blues\n",
       "2  [-132.4419403076172, 115.08517456054688, -14.8...  blues\n",
       "3  [-118.23108673095705, 132.1165008544922, -18.7...  blues\n",
       "4  [-105.96837615966795, 134.64364624023438, -19....  blues"
      ]
     },
     "execution_count": 9,
     "metadata": {},
     "output_type": "execute_result"
    }
   ],
   "source": [
    "feature_df = pd.DataFrame(extracted_data, columns=['feature','class'])\n",
    "\n",
    "feature_df.head()"
   ]
  },
  {
   "cell_type": "code",
   "execution_count": 10,
   "metadata": {
    "execution": {
     "iopub.execute_input": "2022-11-26T18:40:57.303473Z",
     "iopub.status.busy": "2022-11-26T18:40:57.303119Z",
     "iopub.status.idle": "2022-11-26T18:40:57.328115Z",
     "shell.execute_reply": "2022-11-26T18:40:57.327058Z",
     "shell.execute_reply.started": "2022-11-26T18:40:57.303437Z"
    }
   },
   "outputs": [
    {
     "data": {
      "text/plain": [
       "(9990, 20)"
      ]
     },
     "execution_count": 10,
     "metadata": {},
     "output_type": "execute_result"
    }
   ],
   "source": [
    "x = np.array(feature_df['feature'].tolist())\n",
    "\n",
    "x.shape"
   ]
  },
  {
   "cell_type": "code",
   "execution_count": 11,
   "metadata": {
    "execution": {
     "iopub.execute_input": "2022-11-26T18:40:57.332999Z",
     "iopub.status.busy": "2022-11-26T18:40:57.332697Z",
     "iopub.status.idle": "2022-11-26T18:40:57.340339Z",
     "shell.execute_reply": "2022-11-26T18:40:57.339341Z",
     "shell.execute_reply.started": "2022-11-26T18:40:57.332974Z"
    }
   },
   "outputs": [],
   "source": [
    "target = np.array(feature_df['class'].tolist())"
   ]
  },
  {
   "cell_type": "code",
   "execution_count": 12,
   "metadata": {
    "execution": {
     "iopub.execute_input": "2022-11-26T18:40:57.34302Z",
     "iopub.status.busy": "2022-11-26T18:40:57.342579Z",
     "iopub.status.idle": "2022-11-26T18:40:57.366082Z",
     "shell.execute_reply": "2022-11-26T18:40:57.36521Z",
     "shell.execute_reply.started": "2022-11-26T18:40:57.342986Z"
    }
   },
   "outputs": [
    {
     "name": "stdout",
     "output_type": "stream",
     "text": [
      "(9990, 10)\n"
     ]
    },
    {
     "data": {
      "text/html": [
       "<div>\n",
       "<style scoped>\n",
       "    .dataframe tbody tr th:only-of-type {\n",
       "        vertical-align: middle;\n",
       "    }\n",
       "\n",
       "    .dataframe tbody tr th {\n",
       "        vertical-align: top;\n",
       "    }\n",
       "\n",
       "    .dataframe thead th {\n",
       "        text-align: right;\n",
       "    }\n",
       "</style>\n",
       "<table border=\"1\" class=\"dataframe\">\n",
       "  <thead>\n",
       "    <tr style=\"text-align: right;\">\n",
       "      <th></th>\n",
       "      <th>blues</th>\n",
       "      <th>classical</th>\n",
       "      <th>country</th>\n",
       "      <th>disco</th>\n",
       "      <th>hiphop</th>\n",
       "      <th>jazz</th>\n",
       "      <th>metal</th>\n",
       "      <th>pop</th>\n",
       "      <th>reggae</th>\n",
       "      <th>rock</th>\n",
       "    </tr>\n",
       "  </thead>\n",
       "  <tbody>\n",
       "    <tr>\n",
       "      <th>0</th>\n",
       "      <td>1</td>\n",
       "      <td>0</td>\n",
       "      <td>0</td>\n",
       "      <td>0</td>\n",
       "      <td>0</td>\n",
       "      <td>0</td>\n",
       "      <td>0</td>\n",
       "      <td>0</td>\n",
       "      <td>0</td>\n",
       "      <td>0</td>\n",
       "    </tr>\n",
       "    <tr>\n",
       "      <th>1</th>\n",
       "      <td>1</td>\n",
       "      <td>0</td>\n",
       "      <td>0</td>\n",
       "      <td>0</td>\n",
       "      <td>0</td>\n",
       "      <td>0</td>\n",
       "      <td>0</td>\n",
       "      <td>0</td>\n",
       "      <td>0</td>\n",
       "      <td>0</td>\n",
       "    </tr>\n",
       "    <tr>\n",
       "      <th>2</th>\n",
       "      <td>1</td>\n",
       "      <td>0</td>\n",
       "      <td>0</td>\n",
       "      <td>0</td>\n",
       "      <td>0</td>\n",
       "      <td>0</td>\n",
       "      <td>0</td>\n",
       "      <td>0</td>\n",
       "      <td>0</td>\n",
       "      <td>0</td>\n",
       "    </tr>\n",
       "    <tr>\n",
       "      <th>3</th>\n",
       "      <td>1</td>\n",
       "      <td>0</td>\n",
       "      <td>0</td>\n",
       "      <td>0</td>\n",
       "      <td>0</td>\n",
       "      <td>0</td>\n",
       "      <td>0</td>\n",
       "      <td>0</td>\n",
       "      <td>0</td>\n",
       "      <td>0</td>\n",
       "    </tr>\n",
       "    <tr>\n",
       "      <th>4</th>\n",
       "      <td>1</td>\n",
       "      <td>0</td>\n",
       "      <td>0</td>\n",
       "      <td>0</td>\n",
       "      <td>0</td>\n",
       "      <td>0</td>\n",
       "      <td>0</td>\n",
       "      <td>0</td>\n",
       "      <td>0</td>\n",
       "      <td>0</td>\n",
       "    </tr>\n",
       "  </tbody>\n",
       "</table>\n",
       "</div>"
      ],
      "text/plain": [
       "   blues  classical  country  disco  hiphop  jazz  metal  pop  reggae  rock\n",
       "0      1          0        0      0       0     0      0    0       0     0\n",
       "1      1          0        0      0       0     0      0    0       0     0\n",
       "2      1          0        0      0       0     0      0    0       0     0\n",
       "3      1          0        0      0       0     0      0    0       0     0\n",
       "4      1          0        0      0       0     0      0    0       0     0"
      ]
     },
     "execution_count": 12,
     "metadata": {},
     "output_type": "execute_result"
    }
   ],
   "source": [
    "y_new = pd.get_dummies(target)\n",
    "print(y_new.shape)\n",
    "y_new.head()"
   ]
  },
  {
   "cell_type": "code",
   "execution_count": 13,
   "metadata": {
    "execution": {
     "iopub.execute_input": "2022-11-26T18:40:57.367901Z",
     "iopub.status.busy": "2022-11-26T18:40:57.367345Z",
     "iopub.status.idle": "2022-11-26T18:40:57.385949Z",
     "shell.execute_reply": "2022-11-26T18:40:57.384972Z",
     "shell.execute_reply.started": "2022-11-26T18:40:57.367864Z"
    }
   },
   "outputs": [
    {
     "name": "stdout",
     "output_type": "stream",
     "text": [
      "(7992, 20), (1998, 20)\n"
     ]
    },
    {
     "data": {
      "text/plain": [
       "array([[[-3.24867615e+02,  1.77975204e+02,  2.40419998e+01, ...,\n",
       "         -4.34563017e+00, -1.80160451e+00, -3.90213466e+00]],\n",
       "\n",
       "       [[-2.58889618e+02,  1.16611534e+02,  1.84107578e+00, ...,\n",
       "          5.05907498e-02,  4.80156851e+00,  7.27069259e-01]],\n",
       "\n",
       "       [[-5.71014290e+01,  7.48747330e+01, -4.52312965e+01, ...,\n",
       "          9.32623744e-01,  1.13561332e+00,  2.13897491e+00]],\n",
       "\n",
       "       ...,\n",
       "\n",
       "       [[-1.89605316e+02,  1.17735802e+02, -1.24772348e+01, ...,\n",
       "          4.06341553e+00, -2.26114249e+00, -2.24034995e-01]],\n",
       "\n",
       "       [[-1.76899078e+02,  1.19373657e+02, -2.55092049e+00, ...,\n",
       "         -8.90102625e-01, -6.22514772e+00, -3.14809155e+00]],\n",
       "\n",
       "       [[-1.38830536e+02,  1.23055527e+02, -6.22227848e-01, ...,\n",
       "         -1.04806509e+01, -1.19253898e+00,  2.82588601e+00]]])"
      ]
     },
     "execution_count": 13,
     "metadata": {},
     "output_type": "execute_result"
    }
   ],
   "source": [
    "X_train, X_test, y_train, y_test = train_test_split(x, \n",
    "                                                    y_new, \n",
    "                                                    test_size=0.2, \n",
    "                                                    random_state=15)\n",
    "\n",
    "print(str(X_train.shape)+ ', ' + str(X_test.shape))\n",
    "inp = (1, 20)\n",
    "np.array(X_train).reshape(7992, 1, 20)"
   ]
  },
  {
   "cell_type": "code",
   "execution_count": 14,
   "metadata": {
    "execution": {
     "iopub.execute_input": "2022-11-26T18:40:57.388135Z",
     "iopub.status.busy": "2022-11-26T18:40:57.387522Z",
     "iopub.status.idle": "2022-11-26T18:40:57.397342Z",
     "shell.execute_reply": "2022-11-26T18:40:57.396088Z",
     "shell.execute_reply.started": "2022-11-26T18:40:57.388098Z"
    }
   },
   "outputs": [
    {
     "data": {
      "text/plain": [
       "array([[[-3.24867615e+02,  1.77975204e+02,  2.40419998e+01, ...,\n",
       "         -4.34563017e+00, -1.80160451e+00, -3.90213466e+00]],\n",
       "\n",
       "       [[-2.58889618e+02,  1.16611534e+02,  1.84107578e+00, ...,\n",
       "          5.05907498e-02,  4.80156851e+00,  7.27069259e-01]],\n",
       "\n",
       "       [[-5.71014290e+01,  7.48747330e+01, -4.52312965e+01, ...,\n",
       "          9.32623744e-01,  1.13561332e+00,  2.13897491e+00]],\n",
       "\n",
       "       ...,\n",
       "\n",
       "       [[-1.89605316e+02,  1.17735802e+02, -1.24772348e+01, ...,\n",
       "          4.06341553e+00, -2.26114249e+00, -2.24034995e-01]],\n",
       "\n",
       "       [[-1.76899078e+02,  1.19373657e+02, -2.55092049e+00, ...,\n",
       "         -8.90102625e-01, -6.22514772e+00, -3.14809155e+00]],\n",
       "\n",
       "       [[-1.38830536e+02,  1.23055527e+02, -6.22227848e-01, ...,\n",
       "         -1.04806509e+01, -1.19253898e+00,  2.82588601e+00]]])"
      ]
     },
     "execution_count": 14,
     "metadata": {},
     "output_type": "execute_result"
    }
   ],
   "source": [
    "np.array(X_train).reshape(7992,1,20)"
   ]
  },
  {
   "cell_type": "code",
   "execution_count": 15,
   "metadata": {
    "execution": {
     "iopub.execute_input": "2022-11-26T18:40:57.399742Z",
     "iopub.status.busy": "2022-11-26T18:40:57.398928Z",
     "iopub.status.idle": "2022-11-26T18:41:00.907082Z",
     "shell.execute_reply": "2022-11-26T18:41:00.906036Z",
     "shell.execute_reply.started": "2022-11-26T18:40:57.399706Z"
    }
   },
   "outputs": [
    {
     "name": "stdout",
     "output_type": "stream",
     "text": [
      "Model: \"sequential\"\n",
      "_________________________________________________________________\n",
      " Layer (type)                Output Shape              Param #   \n",
      "=================================================================\n",
      " bidirectional (Bidirectiona  (None, 1, 1024)          2183168   \n",
      " l)                                                              \n",
      "                                                                 \n",
      " flatten (Flatten)           (None, 1024)              0         \n",
      "                                                                 \n",
      " dense (Dense)               (None, 10)                10250     \n",
      "                                                                 \n",
      "=================================================================\n",
      "Total params: 2,193,418\n",
      "Trainable params: 2,193,418\n",
      "Non-trainable params: 0\n",
      "_________________________________________________________________\n",
      "None\n"
     ]
    }
   ],
   "source": [
    "model = Sequential()\n",
    "model.add(Input(shape = (1,20)))\n",
    "model.add(Bidirectional(LSTM(512, return_sequences = True, recurrent_dropout = 0.2, dropout = 0.2)))\n",
    "model.add(Flatten())\n",
    "model.add(Dense(10, activation='softmax'))\n",
    "model.compile(\n",
    "    loss = 'categorical_crossentropy',\n",
    "    optimizer='adam',\n",
    "    metrics=['accuracy', AUC()]\n",
    ")\n",
    "print(model.summary())"
   ]
  },
  {
   "cell_type": "code",
   "execution_count": 16,
   "metadata": {
    "execution": {
     "iopub.execute_input": "2022-11-26T18:41:00.910388Z",
     "iopub.status.busy": "2022-11-26T18:41:00.910091Z",
     "iopub.status.idle": "2022-11-26T18:48:57.39708Z",
     "shell.execute_reply": "2022-11-26T18:48:57.396136Z",
     "shell.execute_reply.started": "2022-11-26T18:41:00.910362Z"
    }
   },
   "outputs": [
    {
     "name": "stdout",
     "output_type": "stream",
     "text": [
      "Epoch 1/500\n",
      "16/16 [==============================] - 6s 178ms/step - loss: 1.9414 - accuracy: 0.3068 - auc: 0.7480 - val_loss: 1.5388 - val_accuracy: 0.4600 - val_auc: 0.8603\n",
      "Epoch 2/500\n",
      "16/16 [==============================] - 2s 118ms/step - loss: 1.5771 - accuracy: 0.4398 - auc: 0.8540 - val_loss: 1.3690 - val_accuracy: 0.4920 - val_auc: 0.8932\n",
      "Epoch 3/500\n",
      "16/16 [==============================] - 2s 119ms/step - loss: 1.4402 - accuracy: 0.4924 - auc: 0.8822 - val_loss: 1.2857 - val_accuracy: 0.5340 - val_auc: 0.9057\n",
      "Epoch 4/500\n",
      "16/16 [==============================] - 2s 117ms/step - loss: 1.3602 - accuracy: 0.5174 - auc: 0.8954 - val_loss: 1.2072 - val_accuracy: 0.5696 - val_auc: 0.9171\n",
      "Epoch 5/500\n",
      "16/16 [==============================] - 2s 121ms/step - loss: 1.3099 - accuracy: 0.5380 - auc: 0.9037 - val_loss: 1.1622 - val_accuracy: 0.5986 - val_auc: 0.9233\n",
      "Epoch 6/500\n",
      "16/16 [==============================] - 2s 122ms/step - loss: 1.2679 - accuracy: 0.5460 - auc: 0.9099 - val_loss: 1.1716 - val_accuracy: 0.5931 - val_auc: 0.9219\n",
      "Epoch 7/500\n",
      "16/16 [==============================] - 2s 118ms/step - loss: 1.2230 - accuracy: 0.5662 - auc: 0.9168 - val_loss: 1.0923 - val_accuracy: 0.6256 - val_auc: 0.9320\n",
      "Epoch 8/500\n",
      "16/16 [==============================] - 2s 129ms/step - loss: 1.1972 - accuracy: 0.5797 - auc: 0.9200 - val_loss: 1.0575 - val_accuracy: 0.6396 - val_auc: 0.9366\n",
      "Epoch 9/500\n",
      "16/16 [==============================] - 2s 116ms/step - loss: 1.1718 - accuracy: 0.5883 - auc: 0.9237 - val_loss: 1.0511 - val_accuracy: 0.6306 - val_auc: 0.9373\n",
      "Epoch 10/500\n",
      "16/16 [==============================] - 2s 115ms/step - loss: 1.1536 - accuracy: 0.5958 - auc: 0.9258 - val_loss: 1.0469 - val_accuracy: 0.6311 - val_auc: 0.9377\n",
      "Epoch 11/500\n",
      "16/16 [==============================] - 2s 119ms/step - loss: 1.1264 - accuracy: 0.6016 - auc: 0.9295 - val_loss: 1.0315 - val_accuracy: 0.6386 - val_auc: 0.9394\n",
      "Epoch 12/500\n",
      "16/16 [==============================] - 2s 118ms/step - loss: 1.1053 - accuracy: 0.6091 - auc: 0.9323 - val_loss: 0.9999 - val_accuracy: 0.6512 - val_auc: 0.9434\n",
      "Epoch 13/500\n",
      "16/16 [==============================] - 2s 120ms/step - loss: 1.0991 - accuracy: 0.6146 - auc: 0.9331 - val_loss: 0.9724 - val_accuracy: 0.6652 - val_auc: 0.9457\n",
      "Epoch 14/500\n",
      "16/16 [==============================] - 2s 122ms/step - loss: 1.0645 - accuracy: 0.6222 - auc: 0.9376 - val_loss: 0.9600 - val_accuracy: 0.6682 - val_auc: 0.9475\n",
      "Epoch 15/500\n",
      "16/16 [==============================] - 2s 118ms/step - loss: 1.0594 - accuracy: 0.6280 - auc: 0.9378 - val_loss: 0.9277 - val_accuracy: 0.6742 - val_auc: 0.9510\n",
      "Epoch 16/500\n",
      "16/16 [==============================] - 2s 129ms/step - loss: 1.0365 - accuracy: 0.6384 - auc: 0.9406 - val_loss: 0.9096 - val_accuracy: 0.6837 - val_auc: 0.9526\n",
      "Epoch 17/500\n",
      "16/16 [==============================] - 2s 132ms/step - loss: 1.0296 - accuracy: 0.6398 - auc: 0.9415 - val_loss: 0.9225 - val_accuracy: 0.6807 - val_auc: 0.9515\n",
      "Epoch 18/500\n",
      "16/16 [==============================] - 2s 133ms/step - loss: 1.0254 - accuracy: 0.6430 - auc: 0.9419 - val_loss: 0.9059 - val_accuracy: 0.6897 - val_auc: 0.9527\n",
      "Epoch 19/500\n",
      "16/16 [==============================] - 2s 119ms/step - loss: 1.0057 - accuracy: 0.6517 - auc: 0.9441 - val_loss: 0.8969 - val_accuracy: 0.6907 - val_auc: 0.9537\n",
      "Epoch 20/500\n",
      "16/16 [==============================] - 2s 118ms/step - loss: 0.9858 - accuracy: 0.6567 - auc: 0.9469 - val_loss: 0.8924 - val_accuracy: 0.6907 - val_auc: 0.9539\n",
      "Epoch 21/500\n",
      "16/16 [==============================] - 2s 139ms/step - loss: 0.9770 - accuracy: 0.6539 - auc: 0.9476 - val_loss: 0.9038 - val_accuracy: 0.6822 - val_auc: 0.9529\n",
      "Epoch 22/500\n",
      "16/16 [==============================] - 2s 121ms/step - loss: 0.9740 - accuracy: 0.6600 - auc: 0.9477 - val_loss: 0.8765 - val_accuracy: 0.7012 - val_auc: 0.9554\n",
      "Epoch 23/500\n",
      "16/16 [==============================] - 2s 119ms/step - loss: 0.9504 - accuracy: 0.6673 - auc: 0.9507 - val_loss: 0.8762 - val_accuracy: 0.7047 - val_auc: 0.9550\n",
      "Epoch 24/500\n",
      "16/16 [==============================] - 2s 120ms/step - loss: 0.9517 - accuracy: 0.6683 - auc: 0.9501 - val_loss: 0.8510 - val_accuracy: 0.7187 - val_auc: 0.9577\n",
      "Epoch 25/500\n",
      "16/16 [==============================] - 2s 117ms/step - loss: 0.9405 - accuracy: 0.6754 - auc: 0.9514 - val_loss: 0.8544 - val_accuracy: 0.7082 - val_auc: 0.9576\n",
      "Epoch 26/500\n",
      "16/16 [==============================] - 2s 118ms/step - loss: 0.9192 - accuracy: 0.6864 - auc: 0.9540 - val_loss: 0.8337 - val_accuracy: 0.7182 - val_auc: 0.9590\n",
      "Epoch 27/500\n",
      "16/16 [==============================] - 2s 117ms/step - loss: 0.9154 - accuracy: 0.6767 - auc: 0.9541 - val_loss: 0.8477 - val_accuracy: 0.7037 - val_auc: 0.9581\n",
      "Epoch 28/500\n",
      "16/16 [==============================] - 2s 128ms/step - loss: 0.9097 - accuracy: 0.6834 - auc: 0.9545 - val_loss: 0.8259 - val_accuracy: 0.7222 - val_auc: 0.9597\n",
      "Epoch 29/500\n",
      "16/16 [==============================] - 2s 138ms/step - loss: 0.8983 - accuracy: 0.6848 - auc: 0.9558 - val_loss: 0.8333 - val_accuracy: 0.7202 - val_auc: 0.9593\n",
      "Epoch 30/500\n",
      "16/16 [==============================] - 2s 151ms/step - loss: 0.8870 - accuracy: 0.6953 - auc: 0.9570 - val_loss: 0.8385 - val_accuracy: 0.7212 - val_auc: 0.9586\n",
      "Epoch 31/500\n",
      "16/16 [==============================] - 2s 131ms/step - loss: 0.8830 - accuracy: 0.6924 - auc: 0.9578 - val_loss: 0.8374 - val_accuracy: 0.7132 - val_auc: 0.9591\n",
      "Epoch 32/500\n",
      "16/16 [==============================] - 2s 123ms/step - loss: 0.8762 - accuracy: 0.7001 - auc: 0.9577 - val_loss: 0.8230 - val_accuracy: 0.7112 - val_auc: 0.9600\n",
      "Epoch 33/500\n",
      "16/16 [==============================] - 2s 122ms/step - loss: 0.8697 - accuracy: 0.7010 - auc: 0.9588 - val_loss: 0.8075 - val_accuracy: 0.7237 - val_auc: 0.9612\n",
      "Epoch 34/500\n",
      "16/16 [==============================] - 2s 123ms/step - loss: 0.8646 - accuracy: 0.7007 - auc: 0.9592 - val_loss: 0.8105 - val_accuracy: 0.7247 - val_auc: 0.9609\n",
      "Epoch 35/500\n",
      "16/16 [==============================] - 2s 118ms/step - loss: 0.8506 - accuracy: 0.7017 - auc: 0.9606 - val_loss: 0.7934 - val_accuracy: 0.7292 - val_auc: 0.9630\n",
      "Epoch 36/500\n",
      "16/16 [==============================] - 2s 120ms/step - loss: 0.8538 - accuracy: 0.6987 - auc: 0.9606 - val_loss: 0.8064 - val_accuracy: 0.7282 - val_auc: 0.9617\n",
      "Epoch 37/500\n",
      "16/16 [==============================] - 2s 119ms/step - loss: 0.8461 - accuracy: 0.7092 - auc: 0.9609 - val_loss: 0.7938 - val_accuracy: 0.7332 - val_auc: 0.9626\n",
      "Epoch 38/500\n",
      "16/16 [==============================] - 2s 121ms/step - loss: 0.8367 - accuracy: 0.7120 - auc: 0.9619 - val_loss: 0.7732 - val_accuracy: 0.7372 - val_auc: 0.9649\n",
      "Epoch 39/500\n",
      "16/16 [==============================] - 2s 120ms/step - loss: 0.8375 - accuracy: 0.7075 - auc: 0.9617 - val_loss: 0.7818 - val_accuracy: 0.7342 - val_auc: 0.9632\n",
      "Epoch 40/500\n",
      "16/16 [==============================] - 2s 115ms/step - loss: 0.8206 - accuracy: 0.7138 - auc: 0.9634 - val_loss: 0.7796 - val_accuracy: 0.7332 - val_auc: 0.9639\n",
      "Epoch 41/500\n",
      "16/16 [==============================] - 2s 118ms/step - loss: 0.8134 - accuracy: 0.7166 - auc: 0.9641 - val_loss: 0.7929 - val_accuracy: 0.7232 - val_auc: 0.9623\n",
      "Epoch 42/500\n",
      "16/16 [==============================] - 2s 118ms/step - loss: 0.8233 - accuracy: 0.7186 - auc: 0.9627 - val_loss: 0.7690 - val_accuracy: 0.7457 - val_auc: 0.9640\n",
      "Epoch 43/500\n",
      "16/16 [==============================] - 2s 117ms/step - loss: 0.8042 - accuracy: 0.7226 - auc: 0.9646 - val_loss: 0.7608 - val_accuracy: 0.7447 - val_auc: 0.9655\n",
      "Epoch 44/500\n",
      "16/16 [==============================] - 2s 120ms/step - loss: 0.8006 - accuracy: 0.7202 - auc: 0.9645 - val_loss: 0.7731 - val_accuracy: 0.7372 - val_auc: 0.9647\n",
      "Epoch 45/500\n",
      "16/16 [==============================] - 2s 116ms/step - loss: 0.8094 - accuracy: 0.7227 - auc: 0.9641 - val_loss: 0.7617 - val_accuracy: 0.7447 - val_auc: 0.9652\n",
      "Epoch 46/500\n",
      "16/16 [==============================] - 2s 123ms/step - loss: 0.7920 - accuracy: 0.7266 - auc: 0.9657 - val_loss: 0.7712 - val_accuracy: 0.7442 - val_auc: 0.9640\n",
      "Epoch 47/500\n",
      "16/16 [==============================] - 2s 120ms/step - loss: 0.7884 - accuracy: 0.7245 - auc: 0.9659 - val_loss: 0.7765 - val_accuracy: 0.7432 - val_auc: 0.9641\n",
      "Epoch 48/500\n",
      "16/16 [==============================] - 2s 115ms/step - loss: 0.7811 - accuracy: 0.7325 - auc: 0.9665 - val_loss: 0.7296 - val_accuracy: 0.7668 - val_auc: 0.9677\n",
      "Epoch 49/500\n",
      "16/16 [==============================] - 2s 117ms/step - loss: 0.7736 - accuracy: 0.7370 - auc: 0.9676 - val_loss: 0.7441 - val_accuracy: 0.7523 - val_auc: 0.9668\n",
      "Epoch 50/500\n",
      "16/16 [==============================] - 2s 114ms/step - loss: 0.7655 - accuracy: 0.7335 - auc: 0.9681 - val_loss: 0.7546 - val_accuracy: 0.7528 - val_auc: 0.9660\n",
      "Epoch 51/500\n",
      "16/16 [==============================] - 2s 119ms/step - loss: 0.7635 - accuracy: 0.7365 - auc: 0.9680 - val_loss: 0.7329 - val_accuracy: 0.7583 - val_auc: 0.9672\n",
      "Epoch 52/500\n",
      "16/16 [==============================] - 2s 122ms/step - loss: 0.7579 - accuracy: 0.7375 - auc: 0.9685 - val_loss: 0.7820 - val_accuracy: 0.7417 - val_auc: 0.9633\n",
      "Epoch 53/500\n",
      "16/16 [==============================] - 2s 117ms/step - loss: 0.7619 - accuracy: 0.7381 - auc: 0.9680 - val_loss: 0.7265 - val_accuracy: 0.7608 - val_auc: 0.9681\n",
      "Epoch 54/500\n",
      "16/16 [==============================] - 2s 118ms/step - loss: 0.7452 - accuracy: 0.7485 - auc: 0.9695 - val_loss: 0.7346 - val_accuracy: 0.7553 - val_auc: 0.9668\n",
      "Epoch 55/500\n",
      "16/16 [==============================] - 2s 121ms/step - loss: 0.7385 - accuracy: 0.7447 - auc: 0.9702 - val_loss: 0.7325 - val_accuracy: 0.7583 - val_auc: 0.9676\n",
      "Epoch 56/500\n",
      "16/16 [==============================] - 2s 117ms/step - loss: 0.7387 - accuracy: 0.7495 - auc: 0.9701 - val_loss: 0.7190 - val_accuracy: 0.7668 - val_auc: 0.9681\n",
      "Epoch 57/500\n",
      "16/16 [==============================] - 2s 117ms/step - loss: 0.7451 - accuracy: 0.7449 - auc: 0.9695 - val_loss: 0.7074 - val_accuracy: 0.7623 - val_auc: 0.9693\n",
      "Epoch 58/500\n",
      "16/16 [==============================] - 2s 116ms/step - loss: 0.7350 - accuracy: 0.7501 - auc: 0.9704 - val_loss: 0.6940 - val_accuracy: 0.7708 - val_auc: 0.9705\n",
      "Epoch 59/500\n",
      "16/16 [==============================] - 2s 115ms/step - loss: 0.7279 - accuracy: 0.7514 - auc: 0.9710 - val_loss: 0.6924 - val_accuracy: 0.7773 - val_auc: 0.9700\n",
      "Epoch 60/500\n",
      "16/16 [==============================] - 2s 117ms/step - loss: 0.7247 - accuracy: 0.7558 - auc: 0.9712 - val_loss: 0.7252 - val_accuracy: 0.7628 - val_auc: 0.9685\n",
      "Epoch 61/500\n",
      "16/16 [==============================] - 2s 115ms/step - loss: 0.7261 - accuracy: 0.7480 - auc: 0.9708 - val_loss: 0.6884 - val_accuracy: 0.7708 - val_auc: 0.9710\n",
      "Epoch 62/500\n",
      "16/16 [==============================] - 2s 117ms/step - loss: 0.7212 - accuracy: 0.7506 - auc: 0.9713 - val_loss: 0.7056 - val_accuracy: 0.7673 - val_auc: 0.9697\n",
      "Epoch 63/500\n",
      "16/16 [==============================] - 2s 124ms/step - loss: 0.7237 - accuracy: 0.7477 - auc: 0.9711 - val_loss: 0.7360 - val_accuracy: 0.7568 - val_auc: 0.9665\n",
      "Epoch 64/500\n",
      "16/16 [==============================] - 2s 120ms/step - loss: 0.7271 - accuracy: 0.7494 - auc: 0.9709 - val_loss: 0.7064 - val_accuracy: 0.7638 - val_auc: 0.9694\n",
      "Epoch 65/500\n",
      "16/16 [==============================] - 2s 134ms/step - loss: 0.7073 - accuracy: 0.7581 - auc: 0.9726 - val_loss: 0.6993 - val_accuracy: 0.7698 - val_auc: 0.9701\n",
      "Epoch 66/500\n",
      "16/16 [==============================] - 2s 154ms/step - loss: 0.6958 - accuracy: 0.7559 - auc: 0.9735 - val_loss: 0.7034 - val_accuracy: 0.7678 - val_auc: 0.9701\n",
      "Epoch 67/500\n",
      "16/16 [==============================] - 2s 129ms/step - loss: 0.7014 - accuracy: 0.7620 - auc: 0.9731 - val_loss: 0.6987 - val_accuracy: 0.7713 - val_auc: 0.9701\n",
      "Epoch 68/500\n",
      "16/16 [==============================] - 2s 117ms/step - loss: 0.6937 - accuracy: 0.7623 - auc: 0.9735 - val_loss: 0.7039 - val_accuracy: 0.7768 - val_auc: 0.9685\n",
      "Epoch 69/500\n",
      "16/16 [==============================] - 2s 116ms/step - loss: 0.6841 - accuracy: 0.7679 - auc: 0.9745 - val_loss: 0.6884 - val_accuracy: 0.7723 - val_auc: 0.9701\n",
      "Epoch 70/500\n",
      "16/16 [==============================] - 2s 120ms/step - loss: 0.6924 - accuracy: 0.7658 - auc: 0.9738 - val_loss: 0.6798 - val_accuracy: 0.7848 - val_auc: 0.9711\n",
      "Epoch 71/500\n",
      "16/16 [==============================] - 2s 121ms/step - loss: 0.6904 - accuracy: 0.7635 - auc: 0.9739 - val_loss: 0.6949 - val_accuracy: 0.7673 - val_auc: 0.9696\n",
      "Epoch 72/500\n",
      "16/16 [==============================] - 2s 121ms/step - loss: 0.6771 - accuracy: 0.7694 - auc: 0.9748 - val_loss: 0.6963 - val_accuracy: 0.7733 - val_auc: 0.9698\n",
      "Epoch 73/500\n",
      "16/16 [==============================] - 2s 119ms/step - loss: 0.6800 - accuracy: 0.7659 - auc: 0.9745 - val_loss: 0.6822 - val_accuracy: 0.7738 - val_auc: 0.9715\n",
      "Epoch 74/500\n",
      "16/16 [==============================] - 2s 128ms/step - loss: 0.6788 - accuracy: 0.7655 - auc: 0.9749 - val_loss: 0.6555 - val_accuracy: 0.7858 - val_auc: 0.9727\n",
      "Epoch 75/500\n",
      "16/16 [==============================] - 2s 137ms/step - loss: 0.6731 - accuracy: 0.7715 - auc: 0.9748 - val_loss: 0.6775 - val_accuracy: 0.7843 - val_auc: 0.9718\n",
      "Epoch 76/500\n",
      "16/16 [==============================] - 2s 121ms/step - loss: 0.6794 - accuracy: 0.7641 - auc: 0.9746 - val_loss: 0.6717 - val_accuracy: 0.7823 - val_auc: 0.9716\n",
      "Epoch 77/500\n",
      "16/16 [==============================] - 2s 120ms/step - loss: 0.6615 - accuracy: 0.7701 - auc: 0.9761 - val_loss: 0.6492 - val_accuracy: 0.7873 - val_auc: 0.9731\n",
      "Epoch 78/500\n",
      "16/16 [==============================] - 2s 121ms/step - loss: 0.6656 - accuracy: 0.7710 - auc: 0.9757 - val_loss: 0.6744 - val_accuracy: 0.7823 - val_auc: 0.9721\n",
      "Epoch 79/500\n",
      "16/16 [==============================] - 2s 123ms/step - loss: 0.6748 - accuracy: 0.7664 - auc: 0.9747 - val_loss: 0.6945 - val_accuracy: 0.7713 - val_auc: 0.9704\n",
      "Epoch 80/500\n",
      "16/16 [==============================] - 2s 123ms/step - loss: 0.6712 - accuracy: 0.7681 - auc: 0.9750 - val_loss: 0.6646 - val_accuracy: 0.7838 - val_auc: 0.9729\n",
      "Epoch 81/500\n",
      "16/16 [==============================] - 2s 118ms/step - loss: 0.6619 - accuracy: 0.7746 - auc: 0.9757 - val_loss: 0.6635 - val_accuracy: 0.7863 - val_auc: 0.9724\n",
      "Epoch 82/500\n",
      "16/16 [==============================] - 2s 154ms/step - loss: 0.6629 - accuracy: 0.7757 - auc: 0.9757 - val_loss: 0.6921 - val_accuracy: 0.7753 - val_auc: 0.9696\n",
      "Epoch 83/500\n",
      "16/16 [==============================] - 2s 131ms/step - loss: 0.6594 - accuracy: 0.7743 - auc: 0.9761 - val_loss: 0.6841 - val_accuracy: 0.7803 - val_auc: 0.9707\n",
      "Epoch 84/500\n",
      "16/16 [==============================] - 2s 118ms/step - loss: 0.6482 - accuracy: 0.7819 - auc: 0.9769 - val_loss: 0.6658 - val_accuracy: 0.7853 - val_auc: 0.9726\n",
      "Epoch 85/500\n",
      "16/16 [==============================] - 2s 135ms/step - loss: 0.6442 - accuracy: 0.7792 - auc: 0.9773 - val_loss: 0.6566 - val_accuracy: 0.7893 - val_auc: 0.9733\n",
      "Epoch 86/500\n",
      "16/16 [==============================] - 2s 118ms/step - loss: 0.6406 - accuracy: 0.7805 - auc: 0.9772 - val_loss: 0.6525 - val_accuracy: 0.7918 - val_auc: 0.9730\n",
      "Epoch 87/500\n",
      "16/16 [==============================] - 2s 123ms/step - loss: 0.6362 - accuracy: 0.7842 - auc: 0.9777 - val_loss: 0.6470 - val_accuracy: 0.7983 - val_auc: 0.9731\n",
      "Epoch 88/500\n",
      "16/16 [==============================] - 2s 123ms/step - loss: 0.6454 - accuracy: 0.7778 - auc: 0.9769 - val_loss: 0.6567 - val_accuracy: 0.7833 - val_auc: 0.9730\n",
      "Epoch 89/500\n",
      "16/16 [==============================] - 2s 116ms/step - loss: 0.6468 - accuracy: 0.7745 - auc: 0.9767 - val_loss: 0.6807 - val_accuracy: 0.7748 - val_auc: 0.9718\n",
      "Epoch 90/500\n",
      "16/16 [==============================] - 2s 126ms/step - loss: 0.6366 - accuracy: 0.7815 - auc: 0.9778 - val_loss: 0.6516 - val_accuracy: 0.7878 - val_auc: 0.9728\n",
      "Epoch 91/500\n",
      "16/16 [==============================] - 2s 116ms/step - loss: 0.6308 - accuracy: 0.7857 - auc: 0.9781 - val_loss: 0.6446 - val_accuracy: 0.7933 - val_auc: 0.9733\n",
      "Epoch 92/500\n",
      "16/16 [==============================] - 2s 118ms/step - loss: 0.6336 - accuracy: 0.7828 - auc: 0.9778 - val_loss: 0.6429 - val_accuracy: 0.7983 - val_auc: 0.9742\n",
      "Epoch 93/500\n",
      "16/16 [==============================] - 2s 119ms/step - loss: 0.6196 - accuracy: 0.7892 - auc: 0.9792 - val_loss: 0.6404 - val_accuracy: 0.7948 - val_auc: 0.9739\n"
     ]
    },
    {
     "name": "stdout",
     "output_type": "stream",
     "text": [
      "Epoch 94/500\n",
      "16/16 [==============================] - 2s 121ms/step - loss: 0.6257 - accuracy: 0.7847 - auc: 0.9782 - val_loss: 0.6525 - val_accuracy: 0.7908 - val_auc: 0.9740\n",
      "Epoch 95/500\n",
      "16/16 [==============================] - 2s 137ms/step - loss: 0.6357 - accuracy: 0.7783 - auc: 0.9777 - val_loss: 0.6451 - val_accuracy: 0.7918 - val_auc: 0.9744\n",
      "Epoch 96/500\n",
      "16/16 [==============================] - 2s 122ms/step - loss: 0.6267 - accuracy: 0.7833 - auc: 0.9785 - val_loss: 0.6392 - val_accuracy: 0.7918 - val_auc: 0.9742\n",
      "Epoch 97/500\n",
      "16/16 [==============================] - 2s 118ms/step - loss: 0.6134 - accuracy: 0.7872 - auc: 0.9794 - val_loss: 0.6473 - val_accuracy: 0.7908 - val_auc: 0.9732\n",
      "Epoch 98/500\n",
      "16/16 [==============================] - 2s 117ms/step - loss: 0.6160 - accuracy: 0.7889 - auc: 0.9789 - val_loss: 0.6531 - val_accuracy: 0.7833 - val_auc: 0.9734\n",
      "Epoch 99/500\n",
      "16/16 [==============================] - 2s 116ms/step - loss: 0.6179 - accuracy: 0.7912 - auc: 0.9788 - val_loss: 0.6406 - val_accuracy: 0.7978 - val_auc: 0.9734\n",
      "Epoch 100/500\n",
      "16/16 [==============================] - 2s 117ms/step - loss: 0.6118 - accuracy: 0.7873 - auc: 0.9792 - val_loss: 0.6366 - val_accuracy: 0.7968 - val_auc: 0.9737\n",
      "Epoch 101/500\n",
      "16/16 [==============================] - 2s 116ms/step - loss: 0.6075 - accuracy: 0.7933 - auc: 0.9797 - val_loss: 0.6591 - val_accuracy: 0.7923 - val_auc: 0.9719\n",
      "Epoch 102/500\n",
      "16/16 [==============================] - 2s 116ms/step - loss: 0.5971 - accuracy: 0.7990 - auc: 0.9806 - val_loss: 0.6562 - val_accuracy: 0.7923 - val_auc: 0.9719\n",
      "Epoch 103/500\n",
      "16/16 [==============================] - 2s 122ms/step - loss: 0.6031 - accuracy: 0.7909 - auc: 0.9798 - val_loss: 0.6567 - val_accuracy: 0.7933 - val_auc: 0.9722\n",
      "Epoch 104/500\n",
      "16/16 [==============================] - 2s 127ms/step - loss: 0.6039 - accuracy: 0.7913 - auc: 0.9798 - val_loss: 0.6476 - val_accuracy: 0.8008 - val_auc: 0.9725\n",
      "Epoch 105/500\n",
      "16/16 [==============================] - 2s 120ms/step - loss: 0.6035 - accuracy: 0.7938 - auc: 0.9801 - val_loss: 0.6466 - val_accuracy: 0.7923 - val_auc: 0.9731\n",
      "Epoch 106/500\n",
      "16/16 [==============================] - 2s 119ms/step - loss: 0.6012 - accuracy: 0.7977 - auc: 0.9801 - val_loss: 0.6497 - val_accuracy: 0.7948 - val_auc: 0.9720\n",
      "Epoch 107/500\n",
      "16/16 [==============================] - 2s 118ms/step - loss: 0.5889 - accuracy: 0.7999 - auc: 0.9811 - val_loss: 0.6704 - val_accuracy: 0.7923 - val_auc: 0.9714\n",
      "Epoch 108/500\n",
      "16/16 [==============================] - 2s 130ms/step - loss: 0.5960 - accuracy: 0.7959 - auc: 0.9801 - val_loss: 0.6268 - val_accuracy: 0.8038 - val_auc: 0.9732\n",
      "Epoch 109/500\n",
      "16/16 [==============================] - 2s 125ms/step - loss: 0.5999 - accuracy: 0.7940 - auc: 0.9799 - val_loss: 0.6450 - val_accuracy: 0.7938 - val_auc: 0.9730\n",
      "Epoch 110/500\n",
      "16/16 [==============================] - 2s 124ms/step - loss: 0.5970 - accuracy: 0.7940 - auc: 0.9801 - val_loss: 0.6305 - val_accuracy: 0.7963 - val_auc: 0.9751\n",
      "Epoch 111/500\n",
      "16/16 [==============================] - 2s 122ms/step - loss: 0.5933 - accuracy: 0.7967 - auc: 0.9807 - val_loss: 0.6379 - val_accuracy: 0.7938 - val_auc: 0.9735\n",
      "Epoch 112/500\n",
      "16/16 [==============================] - 2s 122ms/step - loss: 0.5940 - accuracy: 0.7977 - auc: 0.9803 - val_loss: 0.6365 - val_accuracy: 0.7948 - val_auc: 0.9736\n",
      "Epoch 113/500\n",
      "16/16 [==============================] - 2s 124ms/step - loss: 0.5926 - accuracy: 0.7922 - auc: 0.9801 - val_loss: 0.6171 - val_accuracy: 0.8043 - val_auc: 0.9751\n",
      "Epoch 114/500\n",
      "16/16 [==============================] - 2s 124ms/step - loss: 0.5833 - accuracy: 0.8008 - auc: 0.9809 - val_loss: 0.6279 - val_accuracy: 0.8003 - val_auc: 0.9749\n",
      "Epoch 115/500\n",
      "16/16 [==============================] - 2s 120ms/step - loss: 0.5784 - accuracy: 0.7998 - auc: 0.9818 - val_loss: 0.6377 - val_accuracy: 0.8018 - val_auc: 0.9751\n",
      "Epoch 116/500\n",
      "16/16 [==============================] - 2s 123ms/step - loss: 0.5804 - accuracy: 0.8019 - auc: 0.9813 - val_loss: 0.6162 - val_accuracy: 0.8083 - val_auc: 0.9754\n",
      "Epoch 117/500\n",
      "16/16 [==============================] - 2s 126ms/step - loss: 0.5723 - accuracy: 0.8013 - auc: 0.9820 - val_loss: 0.6311 - val_accuracy: 0.8023 - val_auc: 0.9750\n",
      "Epoch 118/500\n",
      "16/16 [==============================] - 2s 125ms/step - loss: 0.5718 - accuracy: 0.8022 - auc: 0.9820 - val_loss: 0.6393 - val_accuracy: 0.7953 - val_auc: 0.9720\n",
      "Epoch 119/500\n",
      "16/16 [==============================] - 2s 118ms/step - loss: 0.5717 - accuracy: 0.8043 - auc: 0.9815 - val_loss: 0.6160 - val_accuracy: 0.8063 - val_auc: 0.9753\n",
      "Epoch 120/500\n",
      "16/16 [==============================] - 2s 130ms/step - loss: 0.5737 - accuracy: 0.8041 - auc: 0.9816 - val_loss: 0.6297 - val_accuracy: 0.7993 - val_auc: 0.9740\n",
      "Epoch 121/500\n",
      "16/16 [==============================] - 2s 130ms/step - loss: 0.5692 - accuracy: 0.8046 - auc: 0.9820 - val_loss: 0.6396 - val_accuracy: 0.7953 - val_auc: 0.9747\n",
      "Epoch 122/500\n",
      "16/16 [==============================] - 2s 141ms/step - loss: 0.5666 - accuracy: 0.8077 - auc: 0.9822 - val_loss: 0.6344 - val_accuracy: 0.7948 - val_auc: 0.9735\n",
      "Epoch 123/500\n",
      "16/16 [==============================] - 2s 121ms/step - loss: 0.5684 - accuracy: 0.8067 - auc: 0.9820 - val_loss: 0.6390 - val_accuracy: 0.7998 - val_auc: 0.9732\n",
      "Epoch 124/500\n",
      "16/16 [==============================] - 2s 119ms/step - loss: 0.5676 - accuracy: 0.8053 - auc: 0.9818 - val_loss: 0.6205 - val_accuracy: 0.7993 - val_auc: 0.9745\n",
      "Epoch 125/500\n",
      "16/16 [==============================] - 2s 131ms/step - loss: 0.5582 - accuracy: 0.8082 - auc: 0.9828 - val_loss: 0.6260 - val_accuracy: 0.7968 - val_auc: 0.9747\n",
      "Epoch 126/500\n",
      "16/16 [==============================] - 2s 124ms/step - loss: 0.5636 - accuracy: 0.8109 - auc: 0.9822 - val_loss: 0.6113 - val_accuracy: 0.8063 - val_auc: 0.9760\n",
      "Epoch 127/500\n",
      "16/16 [==============================] - 2s 119ms/step - loss: 0.5543 - accuracy: 0.8109 - auc: 0.9829 - val_loss: 0.6498 - val_accuracy: 0.7893 - val_auc: 0.9736\n",
      "Epoch 128/500\n",
      "16/16 [==============================] - 2s 134ms/step - loss: 0.5579 - accuracy: 0.8069 - auc: 0.9827 - val_loss: 0.6298 - val_accuracy: 0.7983 - val_auc: 0.9746\n",
      "Epoch 129/500\n",
      "16/16 [==============================] - 2s 151ms/step - loss: 0.5554 - accuracy: 0.8071 - auc: 0.9830 - val_loss: 0.6165 - val_accuracy: 0.8038 - val_auc: 0.9747\n",
      "Epoch 130/500\n",
      "16/16 [==============================] - 2s 124ms/step - loss: 0.5542 - accuracy: 0.8133 - auc: 0.9827 - val_loss: 0.6379 - val_accuracy: 0.8003 - val_auc: 0.9732\n",
      "Epoch 131/500\n",
      "16/16 [==============================] - 2s 122ms/step - loss: 0.5541 - accuracy: 0.8111 - auc: 0.9828 - val_loss: 0.6150 - val_accuracy: 0.8013 - val_auc: 0.9745\n",
      "Epoch 132/500\n",
      "16/16 [==============================] - 2s 130ms/step - loss: 0.5560 - accuracy: 0.8058 - auc: 0.9825 - val_loss: 0.6154 - val_accuracy: 0.8078 - val_auc: 0.9750\n",
      "Epoch 133/500\n",
      "16/16 [==============================] - 2s 138ms/step - loss: 0.5467 - accuracy: 0.8103 - auc: 0.9834 - val_loss: 0.6262 - val_accuracy: 0.8028 - val_auc: 0.9736\n",
      "Epoch 134/500\n",
      "16/16 [==============================] - 2s 126ms/step - loss: 0.5381 - accuracy: 0.8157 - auc: 0.9837 - val_loss: 0.6007 - val_accuracy: 0.7988 - val_auc: 0.9759\n",
      "Epoch 135/500\n",
      "16/16 [==============================] - 2s 132ms/step - loss: 0.5392 - accuracy: 0.8127 - auc: 0.9839 - val_loss: 0.6245 - val_accuracy: 0.7978 - val_auc: 0.9750\n",
      "Epoch 136/500\n",
      "16/16 [==============================] - 2s 123ms/step - loss: 0.5436 - accuracy: 0.8101 - auc: 0.9835 - val_loss: 0.6115 - val_accuracy: 0.8093 - val_auc: 0.9752\n",
      "Epoch 137/500\n",
      "16/16 [==============================] - 2s 118ms/step - loss: 0.5486 - accuracy: 0.8114 - auc: 0.9829 - val_loss: 0.6261 - val_accuracy: 0.8098 - val_auc: 0.9744\n",
      "Epoch 138/500\n",
      "16/16 [==============================] - 2s 122ms/step - loss: 0.5461 - accuracy: 0.8152 - auc: 0.9834 - val_loss: 0.6027 - val_accuracy: 0.8073 - val_auc: 0.9760\n",
      "Epoch 139/500\n",
      "16/16 [==============================] - 2s 118ms/step - loss: 0.5415 - accuracy: 0.8106 - auc: 0.9838 - val_loss: 0.6162 - val_accuracy: 0.8088 - val_auc: 0.9747\n",
      "Epoch 140/500\n",
      "16/16 [==============================] - 2s 116ms/step - loss: 0.5355 - accuracy: 0.8104 - auc: 0.9840 - val_loss: 0.6330 - val_accuracy: 0.8023 - val_auc: 0.9732\n",
      "Epoch 141/500\n",
      "16/16 [==============================] - 2s 118ms/step - loss: 0.5354 - accuracy: 0.8143 - auc: 0.9842 - val_loss: 0.6547 - val_accuracy: 0.7913 - val_auc: 0.9724\n",
      "Epoch 142/500\n",
      "16/16 [==============================] - 2s 115ms/step - loss: 0.5356 - accuracy: 0.8162 - auc: 0.9840 - val_loss: 0.6044 - val_accuracy: 0.8073 - val_auc: 0.9761\n",
      "Epoch 143/500\n",
      "16/16 [==============================] - 2s 118ms/step - loss: 0.5460 - accuracy: 0.8158 - auc: 0.9830 - val_loss: 0.6212 - val_accuracy: 0.8098 - val_auc: 0.9740\n",
      "Epoch 144/500\n",
      "16/16 [==============================] - 2s 125ms/step - loss: 0.5379 - accuracy: 0.8176 - auc: 0.9838 - val_loss: 0.6368 - val_accuracy: 0.8013 - val_auc: 0.9739\n",
      "Epoch 145/500\n",
      "16/16 [==============================] - 2s 119ms/step - loss: 0.5482 - accuracy: 0.8128 - auc: 0.9831 - val_loss: 0.6193 - val_accuracy: 0.8078 - val_auc: 0.9750\n",
      "Epoch 146/500\n",
      "16/16 [==============================] - 2s 123ms/step - loss: 0.5345 - accuracy: 0.8136 - auc: 0.9842 - val_loss: 0.6143 - val_accuracy: 0.8023 - val_auc: 0.9759\n",
      "Epoch 147/500\n",
      "16/16 [==============================] - 2s 118ms/step - loss: 0.5362 - accuracy: 0.8128 - auc: 0.9842 - val_loss: 0.6025 - val_accuracy: 0.8138 - val_auc: 0.9761\n",
      "Epoch 148/500\n",
      "16/16 [==============================] - 2s 119ms/step - loss: 0.5187 - accuracy: 0.8208 - auc: 0.9851 - val_loss: 0.6196 - val_accuracy: 0.8023 - val_auc: 0.9748\n",
      "Epoch 149/500\n",
      "16/16 [==============================] - 2s 122ms/step - loss: 0.5315 - accuracy: 0.8167 - auc: 0.9842 - val_loss: 0.5980 - val_accuracy: 0.8148 - val_auc: 0.9767\n",
      "Epoch 150/500\n",
      "16/16 [==============================] - 2s 120ms/step - loss: 0.5232 - accuracy: 0.8198 - auc: 0.9849 - val_loss: 0.6166 - val_accuracy: 0.8033 - val_auc: 0.9743\n",
      "Epoch 151/500\n",
      "16/16 [==============================] - 2s 117ms/step - loss: 0.5354 - accuracy: 0.8123 - auc: 0.9839 - val_loss: 0.6042 - val_accuracy: 0.8108 - val_auc: 0.9768\n",
      "Epoch 152/500\n",
      "16/16 [==============================] - 2s 121ms/step - loss: 0.5296 - accuracy: 0.8139 - auc: 0.9843 - val_loss: 0.6043 - val_accuracy: 0.8133 - val_auc: 0.9751\n",
      "Epoch 153/500\n",
      "16/16 [==============================] - 2s 123ms/step - loss: 0.5238 - accuracy: 0.8201 - auc: 0.9848 - val_loss: 0.6106 - val_accuracy: 0.8088 - val_auc: 0.9751\n",
      "Epoch 154/500\n",
      "16/16 [==============================] - 2s 136ms/step - loss: 0.5180 - accuracy: 0.8206 - auc: 0.9851 - val_loss: 0.6261 - val_accuracy: 0.7993 - val_auc: 0.9747\n",
      "Epoch 155/500\n",
      "16/16 [==============================] - 2s 128ms/step - loss: 0.5094 - accuracy: 0.8221 - auc: 0.9858 - val_loss: 0.6341 - val_accuracy: 0.8028 - val_auc: 0.9745\n",
      "Epoch 156/500\n",
      "16/16 [==============================] - 2s 122ms/step - loss: 0.5113 - accuracy: 0.8252 - auc: 0.9853 - val_loss: 0.6447 - val_accuracy: 0.7908 - val_auc: 0.9742\n",
      "Epoch 157/500\n",
      "16/16 [==============================] - 2s 119ms/step - loss: 0.5196 - accuracy: 0.8194 - auc: 0.9847 - val_loss: 0.6183 - val_accuracy: 0.8113 - val_auc: 0.9748\n",
      "Epoch 158/500\n",
      "16/16 [==============================] - 2s 118ms/step - loss: 0.5135 - accuracy: 0.8238 - auc: 0.9852 - val_loss: 0.6356 - val_accuracy: 0.7988 - val_auc: 0.9735\n",
      "Epoch 159/500\n",
      "16/16 [==============================] - 2s 122ms/step - loss: 0.5259 - accuracy: 0.8178 - auc: 0.9844 - val_loss: 0.6187 - val_accuracy: 0.8073 - val_auc: 0.9751\n",
      "Epoch 160/500\n",
      "16/16 [==============================] - 2s 122ms/step - loss: 0.5044 - accuracy: 0.8282 - auc: 0.9857 - val_loss: 0.5920 - val_accuracy: 0.8123 - val_auc: 0.9772\n",
      "Epoch 161/500\n",
      "16/16 [==============================] - 2s 125ms/step - loss: 0.5106 - accuracy: 0.8290 - auc: 0.9854 - val_loss: 0.6102 - val_accuracy: 0.8118 - val_auc: 0.9750\n",
      "Epoch 162/500\n",
      "16/16 [==============================] - 2s 115ms/step - loss: 0.4974 - accuracy: 0.8321 - auc: 0.9861 - val_loss: 0.5994 - val_accuracy: 0.8068 - val_auc: 0.9756\n",
      "Epoch 163/500\n",
      "16/16 [==============================] - 2s 117ms/step - loss: 0.5160 - accuracy: 0.8193 - auc: 0.9848 - val_loss: 0.6206 - val_accuracy: 0.8013 - val_auc: 0.9751\n",
      "Epoch 164/500\n",
      "16/16 [==============================] - 2s 119ms/step - loss: 0.5033 - accuracy: 0.8239 - auc: 0.9855 - val_loss: 0.6058 - val_accuracy: 0.8178 - val_auc: 0.9764\n",
      "Epoch 165/500\n",
      "16/16 [==============================] - 2s 118ms/step - loss: 0.5062 - accuracy: 0.8256 - auc: 0.9857 - val_loss: 0.6097 - val_accuracy: 0.8128 - val_auc: 0.9753\n",
      "Epoch 166/500\n",
      "16/16 [==============================] - 2s 117ms/step - loss: 0.5087 - accuracy: 0.8277 - auc: 0.9851 - val_loss: 0.6083 - val_accuracy: 0.8103 - val_auc: 0.9752\n",
      "Epoch 167/500\n",
      "16/16 [==============================] - 2s 149ms/step - loss: 0.5114 - accuracy: 0.8213 - auc: 0.9853 - val_loss: 0.6221 - val_accuracy: 0.8038 - val_auc: 0.9752\n",
      "Epoch 168/500\n",
      "16/16 [==============================] - 2s 137ms/step - loss: 0.5115 - accuracy: 0.8212 - auc: 0.9856 - val_loss: 0.5883 - val_accuracy: 0.8128 - val_auc: 0.9762\n",
      "Epoch 169/500\n",
      "16/16 [==============================] - 2s 123ms/step - loss: 0.5048 - accuracy: 0.8244 - auc: 0.9856 - val_loss: 0.6060 - val_accuracy: 0.8213 - val_auc: 0.9752\n",
      "Epoch 170/500\n",
      "16/16 [==============================] - 2s 118ms/step - loss: 0.5051 - accuracy: 0.8228 - auc: 0.9857 - val_loss: 0.6047 - val_accuracy: 0.8063 - val_auc: 0.9753\n",
      "Epoch 171/500\n",
      "16/16 [==============================] - 2s 120ms/step - loss: 0.5128 - accuracy: 0.8263 - auc: 0.9848 - val_loss: 0.6197 - val_accuracy: 0.7993 - val_auc: 0.9741\n",
      "Epoch 172/500\n",
      "16/16 [==============================] - 2s 118ms/step - loss: 0.4999 - accuracy: 0.8238 - auc: 0.9862 - val_loss: 0.6071 - val_accuracy: 0.8153 - val_auc: 0.9751\n",
      "Epoch 173/500\n",
      "16/16 [==============================] - 2s 121ms/step - loss: 0.4900 - accuracy: 0.8318 - auc: 0.9866 - val_loss: 0.6019 - val_accuracy: 0.8193 - val_auc: 0.9756\n",
      "Epoch 174/500\n",
      "16/16 [==============================] - 2s 135ms/step - loss: 0.4912 - accuracy: 0.8302 - auc: 0.9864 - val_loss: 0.6166 - val_accuracy: 0.8093 - val_auc: 0.9735\n",
      "Epoch 175/500\n",
      "16/16 [==============================] - 2s 119ms/step - loss: 0.4889 - accuracy: 0.8280 - auc: 0.9868 - val_loss: 0.6001 - val_accuracy: 0.8163 - val_auc: 0.9764\n",
      "Epoch 176/500\n",
      "16/16 [==============================] - 2s 125ms/step - loss: 0.4905 - accuracy: 0.8277 - auc: 0.9868 - val_loss: 0.6046 - val_accuracy: 0.8133 - val_auc: 0.9759\n",
      "Epoch 177/500\n",
      "16/16 [==============================] - 2s 136ms/step - loss: 0.5036 - accuracy: 0.8267 - auc: 0.9855 - val_loss: 0.6124 - val_accuracy: 0.8088 - val_auc: 0.9754\n",
      "Epoch 178/500\n",
      "16/16 [==============================] - 2s 138ms/step - loss: 0.4950 - accuracy: 0.8286 - auc: 0.9863 - val_loss: 0.6055 - val_accuracy: 0.8088 - val_auc: 0.9759\n",
      "Epoch 179/500\n",
      "16/16 [==============================] - 2s 121ms/step - loss: 0.4968 - accuracy: 0.8308 - auc: 0.9860 - val_loss: 0.5858 - val_accuracy: 0.8208 - val_auc: 0.9764\n",
      "Epoch 180/500\n",
      "16/16 [==============================] - 2s 122ms/step - loss: 0.4861 - accuracy: 0.8333 - auc: 0.9866 - val_loss: 0.6020 - val_accuracy: 0.8153 - val_auc: 0.9754\n",
      "Epoch 181/500\n",
      "16/16 [==============================] - 2s 123ms/step - loss: 0.5012 - accuracy: 0.8247 - auc: 0.9856 - val_loss: 0.5793 - val_accuracy: 0.8183 - val_auc: 0.9781\n",
      "Epoch 182/500\n",
      "16/16 [==============================] - 2s 119ms/step - loss: 0.5012 - accuracy: 0.8226 - auc: 0.9859 - val_loss: 0.5965 - val_accuracy: 0.8173 - val_auc: 0.9765\n",
      "Epoch 183/500\n",
      "16/16 [==============================] - 2s 117ms/step - loss: 0.5025 - accuracy: 0.8268 - auc: 0.9857 - val_loss: 0.5942 - val_accuracy: 0.8148 - val_auc: 0.9761\n",
      "Epoch 184/500\n",
      "16/16 [==============================] - 2s 122ms/step - loss: 0.4848 - accuracy: 0.8290 - auc: 0.9868 - val_loss: 0.6331 - val_accuracy: 0.8048 - val_auc: 0.9741\n",
      "Epoch 185/500\n",
      "16/16 [==============================] - 2s 121ms/step - loss: 0.4821 - accuracy: 0.8353 - auc: 0.9869 - val_loss: 0.6031 - val_accuracy: 0.8108 - val_auc: 0.9763\n",
      "Epoch 186/500\n"
     ]
    },
    {
     "name": "stdout",
     "output_type": "stream",
     "text": [
      "16/16 [==============================] - 2s 117ms/step - loss: 0.4863 - accuracy: 0.8311 - auc: 0.9867 - val_loss: 0.5966 - val_accuracy: 0.8183 - val_auc: 0.9760\n",
      "Epoch 187/500\n",
      "16/16 [==============================] - 2s 117ms/step - loss: 0.4826 - accuracy: 0.8343 - auc: 0.9866 - val_loss: 0.5878 - val_accuracy: 0.8148 - val_auc: 0.9768\n",
      "Epoch 188/500\n",
      "16/16 [==============================] - 2s 114ms/step - loss: 0.4845 - accuracy: 0.8307 - auc: 0.9867 - val_loss: 0.6063 - val_accuracy: 0.8078 - val_auc: 0.9766\n",
      "Epoch 189/500\n",
      "16/16 [==============================] - 2s 117ms/step - loss: 0.4916 - accuracy: 0.8296 - auc: 0.9862 - val_loss: 0.5767 - val_accuracy: 0.8213 - val_auc: 0.9777\n"
     ]
    },
    {
     "name": "stderr",
     "output_type": "stream",
     "text": [
      "WARNING:absl:Found untraced functions such as _update_step_xla while saving (showing 1 of 1). These functions will not be directly callable after loading.\n"
     ]
    },
    {
     "name": "stdout",
     "output_type": "stream",
     "text": [
      "INFO:tensorflow:Assets written to: LSTM\\assets\n"
     ]
    },
    {
     "name": "stderr",
     "output_type": "stream",
     "text": [
      "INFO:tensorflow:Assets written to: LSTM\\assets\n"
     ]
    }
   ],
   "source": [
    "es = EarlyStopping(\n",
    "    monitor='val_accuracy', restore_best_weights=True, patience=20, min_delta = 0.001\n",
    ")\n",
    "\n",
    "history = model.fit(\n",
    "    np.array(X_train).reshape(7992, 1, 20),\n",
    "    np.array(y_train),\n",
    "    epochs=500,\n",
    "    callbacks = [es],\n",
    "    shuffle = True,\n",
    "    batch_size = 512,\n",
    "    validation_data = (\n",
    "        np.array(X_test).reshape(1998,1,20),\n",
    "        np.array(y_test)\n",
    "    )\n",
    ")\n",
    "model.save('LSTM')"
   ]
  },
  {
   "cell_type": "code",
   "execution_count": 17,
   "metadata": {
    "execution": {
     "iopub.execute_input": "2022-11-26T19:00:52.539885Z",
     "iopub.status.busy": "2022-11-26T19:00:52.539522Z",
     "iopub.status.idle": "2022-11-26T19:00:53.069162Z",
     "shell.execute_reply": "2022-11-26T19:00:53.068243Z",
     "shell.execute_reply.started": "2022-11-26T19:00:52.539854Z"
    }
   },
   "outputs": [
    {
     "data": {
      "image/png": "[encoded data removed]",
      "text/plain": [
       "<Figure size 864x432 with 3 Axes>"
      ]
     },
     "metadata": {
      "needs_background": "light"
     },
     "output_type": "display_data"
    }
   ],
   "source": [
    "fig, (ax1, ax2, ax3) = plt.subplots(3,1, figsize=(12,6))\n",
    "ax2.plot(history.history['loss'], color='orange', label='Loss')\n",
    "ax2.plot(history.history['val_loss'], color='blue', label='val_loss')\n",
    "ax2.legend(loc='upper right')\n",
    "ax1.plot(history.history['accuracy'], label='Accuracy', color='orange')\n",
    "ax1.plot(history.history['val_accuracy'], label='val_accuracy', color='blue')\n",
    "ax1.legend(loc=\"upper right\")\n",
    "ax1.set_title(\"Model-Accuracy w.r.t Epochs\", loc='center')\n",
    "plt.xlabel(\"Epochs\")\n",
    "plt.ylabel(\"Loss\")\n",
    "ax1.set_xlabel(\"Epoch\")\n",
    "ax1.set_ylabel(\"Accuracy\")\n",
    "ax3.plot(history.history['auc'], color='orange', label='AUC')\n",
    "ax3.plot(history.history['val_auc'], color='blue', label='val_auc')\n",
    "ax3.set_xlabel(\"Epoch\")\n",
    "ax3.set_ylabel(\"AUC\")\n",
    "ax3.legend(loc='upper right')\n",
    "plt.savefig('model_acc_LSTM_GTZAN.png')\n",
    "# ax3.set_title(\"AUC of model w.r.t Epochs\", loc='center')"
   ]
  },
  {
   "cell_type": "code",
   "execution_count": 18,
   "metadata": {
    "execution": {
     "iopub.execute_input": "2022-11-26T19:02:46.298961Z",
     "iopub.status.busy": "2022-11-26T19:02:46.298578Z",
     "iopub.status.idle": "2022-11-26T19:02:46.96926Z",
     "shell.execute_reply": "2022-11-26T19:02:46.968301Z",
     "shell.execute_reply.started": "2022-11-26T19:02:46.298931Z"
    }
   },
   "outputs": [
    {
     "name": "stdout",
     "output_type": "stream",
     "text": [
      "313/313 [==============================] - 2s 6ms/step\n"
     ]
    },
    {
     "data": {
      "text/plain": [
       "(9990, 10)"
      ]
     },
     "execution_count": 18,
     "metadata": {},
     "output_type": "execute_result"
    }
   ],
   "source": [
    "y_pred = model.predict(np.array(x).reshape(9990, 1,20))\n",
    "\n",
    "y_pred_classes = np.argmax(y_pred, axis=1)\n",
    "\n",
    "y_pred.shape"
   ]
  },
  {
   "cell_type": "code",
   "execution_count": 19,
   "metadata": {
    "execution": {
     "iopub.execute_input": "2022-11-26T19:02:52.875484Z",
     "iopub.status.busy": "2022-11-26T19:02:52.875079Z",
     "iopub.status.idle": "2022-11-26T19:02:52.883613Z",
     "shell.execute_reply": "2022-11-26T19:02:52.882276Z",
     "shell.execute_reply.started": "2022-11-26T19:02:52.875451Z"
    }
   },
   "outputs": [
    {
     "data": {
      "text/plain": [
       "array([0, 0, 0, ..., 9, 9, 9], dtype=int64)"
      ]
     },
     "execution_count": 19,
     "metadata": {},
     "output_type": "execute_result"
    }
   ],
   "source": [
    "y_true = np.argmax(np.array(y_new), axis=1)\n",
    "\n",
    "y_true"
   ]
  },
  {
   "cell_type": "code",
   "execution_count": 20,
   "metadata": {
    "execution": {
     "iopub.execute_input": "2022-11-26T19:03:34.147914Z",
     "iopub.status.busy": "2022-11-26T19:03:34.147564Z",
     "iopub.status.idle": "2022-11-26T19:03:34.167745Z",
     "shell.execute_reply": "2022-11-26T19:03:34.16686Z",
     "shell.execute_reply.started": "2022-11-26T19:03:34.147879Z"
    }
   },
   "outputs": [
    {
     "name": "stdout",
     "output_type": "stream",
     "text": [
      "0.9001001001001001\n",
      "tf.Tensor(0.9917789, shape=(), dtype=float32)\n"
     ]
    }
   ],
   "source": [
    "print(np.mean(y_pred_classes == y_true))\n",
    "m = AUC()\n",
    "m.update_state(y_new, y_pred)\n",
    "print(m.result())"
   ]
  },
  {
   "cell_type": "code",
   "execution_count": 21,
   "metadata": {
    "execution": {
     "iopub.execute_input": "2022-11-26T19:05:42.684349Z",
     "iopub.status.busy": "2022-11-26T19:05:42.683967Z",
     "iopub.status.idle": "2022-11-26T19:05:43.686235Z",
     "shell.execute_reply": "2022-11-26T19:05:43.685209Z",
     "shell.execute_reply.started": "2022-11-26T19:05:42.684314Z"
    }
   },
   "outputs": [
    {
     "data": {
      "text/plain": [
       "<Figure size 432x288 with 0 Axes>"
      ]
     },
     "metadata": {},
     "output_type": "display_data"
    },
    {
     "data": {
      "image/png": "[encoded data removed]",
      "text/plain": [
       "<Figure size 864x864 with 2 Axes>"
      ]
     },
     "metadata": {
      "needs_background": "light"
     },
     "output_type": "display_data"
    }
   ],
   "source": [
    "from sklearn.metrics import confusion_matrix\n",
    "cm = confusion_matrix(y_pred_classes, y_true,)\n",
    "import itertools\n",
    "plt.clf()\n",
    "fig = plt.figure(figsize = (12,12)) \n",
    "ax = fig.add_subplot(111)\n",
    "ax.set_aspect(1)\n",
    "plt.imshow(cm, cmap = plt.cm.Blues, interpolation='nearest')\n",
    "\n",
    "plt.title(\"Confusion Matrix\")\n",
    "plt.colorbar()\n",
    "tick_marks = np.arange(len(range(10)))\n",
    "plt.xticks(tick_marks, range(10), rotation=45)\n",
    "plt.yticks(tick_marks, range(10))\n",
    "thresh = cm.max()/2\n",
    "for i, j in itertools.product(range(cm.shape[0]), range(cm.shape[1])):\n",
    "    plt.text(j, i , cm[i,j], horizontalalignment=\"center\", color=\"white\" if cm[i,j]>thresh else \"black\")\n",
    "\n",
    "plt.tight_layout()\n",
    "plt.ylabel(\"True Label\")\n",
    "plt.xlabel(\"Predicted Label\")\n",
    "plt.savefig('con_matrix_LSTM_GTZAN.png')"
   ]
  },
  {
   "cell_type": "code",
   "execution_count": null,
   "metadata": {},
   "outputs": [],
   "source": []
  }
 ],
 "metadata": {
  "kernelspec": {
   "display_name": "Python 3 (ipykernel)",
   "language": "python",
   "name": "python3"
  },
  "language_info": {
   "codemirror_mode": {
    "name": "ipython",
    "version": 3
   },
   "file_extension": ".py",
   "mimetype": "text/x-python",
   "name": "python",
   "nbconvert_exporter": "python",
   "pygments_lexer": "ipython3",
   "version": "3.9.7"
  }
 },
 "nbformat": 4,
 "nbformat_minor": 4
}
